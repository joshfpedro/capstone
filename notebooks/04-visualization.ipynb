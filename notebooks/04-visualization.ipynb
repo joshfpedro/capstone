{
 "cells": [
  {
   "cell_type": "code",
   "execution_count": 2,
   "metadata": {},
   "outputs": [],
   "source": [
    "import pandas as pd\n",
    "import json\n",
    "\n",
    "# Load the MAE values\n",
    "with open('../docs/mae_values.json', 'r') as f:\n",
    "    mae_data = json.load(f)\n",
    "\n",
    "# Create a DataFrame\n",
    "df = pd.DataFrame({\n",
    "    'Model': mae_data['solar'].keys(),\n",
    "    'Solar MAE': mae_data['solar'].values(),\n",
    "    'Wind MAE': mae_data['wind'].values()\n",
    "})\n",
    "\n",
    "# Save to CSV\n",
    "df.to_csv('../docs/figures/mae_comparison.csv', index=False)"
   ]
  }
 ],
 "metadata": {
  "kernelspec": {
   "display_name": "Python 3",
   "language": "python",
   "name": "python3"
  },
  "language_info": {
   "codemirror_mode": {
    "name": "ipython",
    "version": 3
   },
   "file_extension": ".py",
   "mimetype": "text/x-python",
   "name": "python",
   "nbconvert_exporter": "python",
   "pygments_lexer": "ipython3",
   "version": "3.10.7"
  }
 },
 "nbformat": 4,
 "nbformat_minor": 2
}
